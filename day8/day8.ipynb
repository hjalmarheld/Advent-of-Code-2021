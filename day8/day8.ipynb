{
 "cells": [
  {
   "cell_type": "code",
   "execution_count": 1,
   "metadata": {},
   "outputs": [],
   "source": [
    "from aocd import get_data\n",
    "import pandas as pd"
   ]
  },
  {
   "cell_type": "code",
   "execution_count": 2,
   "metadata": {},
   "outputs": [],
   "source": [
    "data= pd.DataFrame(get_data(day=8).splitlines())\n",
    "data = data[0].str.split(' ', expand=True)\n",
    "data.drop(10, axis=1, inplace=True)\n",
    "data.columns = ['in' + str(i) for i in range(1,11)] + ['out' + str(i) for i in range(1,5)]"
   ]
  },
  {
   "cell_type": "code",
   "execution_count": 3,
   "metadata": {},
   "outputs": [
    {
     "data": {
      "text/plain": [
       "554"
      ]
     },
     "execution_count": 3,
     "metadata": {},
     "output_type": "execute_result"
    }
   ],
   "source": [
    "# part 1\n",
    "\n",
    "# len of string in numbers searched\n",
    "# one = 2\n",
    "# four = 4\n",
    "# seven = 3\n",
    "# eight = 7\n",
    "\n",
    "lens = [2, 3, 4, 7]\n",
    "count = 0\n",
    "for i in range(1,5):\n",
    "    for j in range(len(data)):\n",
    "        if len(data.iloc[j, -i]) in lens:\n",
    "            count += 1\n",
    "\n",
    "count"
   ]
  },
  {
   "cell_type": "code",
   "execution_count": 4,
   "metadata": {},
   "outputs": [
    {
     "data": {
      "text/plain": [
       "990964"
      ]
     },
     "execution_count": 4,
     "metadata": {},
     "output_type": "execute_result"
    }
   ],
   "source": [
    "# part 2\n",
    "\n",
    "count = 0\n",
    "for i in range(len(data)):\n",
    "    \n",
    "    for j in range(10): # mapping all numbers we know\n",
    "        if len(data.iloc[i,j])==2:\n",
    "            one = sorted(data.iloc[i,j])\n",
    "        elif len(data.iloc[i,j])==4:\n",
    "            four = sorted(data.iloc[i,j])\n",
    "        elif len(data.iloc[i,j])==3:\n",
    "            seven = sorted(data.iloc[i,j])\n",
    "        elif len(data.iloc[i,j])==7:\n",
    "            eight = sorted(data.iloc[i,j])\n",
    "\n",
    "    for j in range(10):\n",
    "        if len(data.iloc[i,j]) == 5: # mapping all numbers with len 5 using numbers we have\n",
    "            if len([letter for letter in data.iloc[i,j] if letter not in one]) == 3:\n",
    "                three = sorted(data.iloc[i,j])\n",
    "            elif len([letter for letter in data.iloc[i,j] if letter not in four]) == 3:\n",
    "                two = sorted(data.iloc[i,j])\n",
    "            else:\n",
    "                five = sorted(data.iloc[i,j])\n",
    "\n",
    "        if len(data.iloc[i,j]) == 6: # mapping all numbers with len 6 using numbers we have\n",
    "            if len([letter for letter in data.iloc[i,j] if letter not in one]) == 5:\n",
    "                six = sorted(data.iloc[i,j])\n",
    "            elif len([letter for letter in data.iloc[i,j] if letter not in four]) == 2:\n",
    "                nine = sorted(data.iloc[i,j])\n",
    "            else:\n",
    "                zero = sorted(data.iloc[i,j])\n",
    "    \n",
    "    all_numbers = [zero, one, two, three, four, five, six, seven, eight, nine]\n",
    "    output =''\n",
    "\n",
    "    for j in range(-4, 0):\n",
    "        output +=str(all_numbers.index(sorted(data.iloc[i, j])))\n",
    "\n",
    "    count += int(output)\n",
    "        \n",
    "count"
   ]
  }
 ],
 "metadata": {
  "interpreter": {
   "hash": "31d8a1ef34cbcebda31b01d96f0668cc5da4b9d1ec201e7411d63c9c214da37f"
  },
  "kernelspec": {
   "display_name": "Python 3.9.7 64-bit ('ds2': conda)",
   "language": "python",
   "name": "python3"
  },
  "language_info": {
   "codemirror_mode": {
    "name": "ipython",
    "version": 3
   },
   "file_extension": ".py",
   "mimetype": "text/x-python",
   "name": "python",
   "nbconvert_exporter": "python",
   "pygments_lexer": "ipython3",
   "version": "3.9.7"
  },
  "orig_nbformat": 4
 },
 "nbformat": 4,
 "nbformat_minor": 2
}
