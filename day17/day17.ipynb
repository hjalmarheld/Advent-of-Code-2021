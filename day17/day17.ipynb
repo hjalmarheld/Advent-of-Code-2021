{
 "cells": [
  {
   "cell_type": "code",
   "execution_count": 1,
   "metadata": {},
   "outputs": [],
   "source": [
    "from aocd import get_data\n",
    "import numpy as np"
   ]
  },
  {
   "cell_type": "code",
   "execution_count": 2,
   "metadata": {},
   "outputs": [
    {
     "name": "stdout",
     "output_type": "stream",
     "text": [
      "target area: x=185..221, y=-122..-74\n"
     ]
    }
   ],
   "source": [
    "data = get_data(day=17)\n",
    "print(data)\n",
    "x_range = np.arange(185, 222)\n",
    "y_range = np.arange(-122, -73)"
   ]
  },
  {
   "cell_type": "markdown",
   "metadata": {},
   "source": [
    "# Question 1 \n",
    "\n",
    "This can be solved with some math and logic. \n",
    "\n",
    "Given the linear de-acceleration, the probe's vertical velocity will be the negative of its initial velocity when crossing the y-axis. \n",
    "\n",
    "Since we want the inital speed to be as high as possible, we then want it to be at the very bottom of our zone in one step. Thus, our initial vertical velocity should be the absolute vertical distance from the y-axis to the bottom of the zone.\n",
    "\n",
    "That is $V_y = 122 $\n",
    "\n",
    "The top point can then be calculated with the sum:\n",
    "\n",
    "$ \\sum_{t=0}^{V_y} V_y - t = V_y^2 - \\frac{V_y}{2}(1 + V_y) = \\frac{V_y^2 - V_y}{2}$"
   ]
  },
  {
   "cell_type": "code",
   "execution_count": 3,
   "metadata": {},
   "outputs": [
    {
     "data": {
      "text/plain": [
       "7381.0"
      ]
     },
     "execution_count": 3,
     "metadata": {},
     "output_type": "execute_result"
    }
   ],
   "source": [
    "(122 ** 2 - 122)/2"
   ]
  },
  {
   "cell_type": "markdown",
   "metadata": {},
   "source": [
    "# Question 2"
   ]
  },
  {
   "cell_type": "markdown",
   "metadata": {},
   "source": [
    "Can be solved with some bruteforcing. Knowing the minimum and maximum horisontal and vertical velocities which can be used we can try all combinations within and see if they have a step in the zone.\n",
    "\n",
    "We already have the maximum vertical velocity from above, the minimum is trivially -122.\n",
    "\n",
    "For the horisontal direction, the maximum is trivially 221 and the minimum can be found with:\n",
    "\n",
    "$ \\sum_{t=0}^{V_x} V_y - t > 185 \\iff V_x \\geq 19$.\n",
    "\n",
    "Thus,\n",
    "\n",
    "$ 19 \\leq V_x \\leq 221 $\n",
    "\n",
    "$ -122 \\leq V_y \\leq 122 $\n",
    "\n",
    "With some deduction from question 1 we also know that it will never take more than 245 steps to reach the zone.\n",
    "\n",
    "This aint pretty but it works.\n"
   ]
  },
  {
   "cell_type": "code",
   "execution_count": 4,
   "metadata": {},
   "outputs": [
    {
     "data": {
      "text/plain": [
       "3019"
      ]
     },
     "execution_count": 4,
     "metadata": {},
     "output_type": "execute_result"
    }
   ],
   "source": [
    "x_initial_vols = range(19,222)\n",
    "y_initial_vols = range(-122, 123)\n",
    "\n",
    "counts = 0\n",
    "\n",
    "for x_vol in x_initial_vols:\n",
    "    x_vols = list(((x_vol-np.arange(246))>0) * (x_vol-np.arange(246)))\n",
    "\n",
    "    for y_vol in y_initial_vols:\n",
    "        y_vols = list(y_vol - np.arange(246))\n",
    "\n",
    "        for i in range(1,246):\n",
    "            if sum(y_vols[:i]) < -122:\n",
    "                break\n",
    "            if sum(x_vols[:i]) > 221:\n",
    "                break\n",
    "            if (sum(x_vols[:i]) in x_range) & (sum(y_vols[:i]) in y_range):\n",
    "                counts += 1\n",
    "                break\n",
    "\n",
    "counts"
   ]
  }
 ],
 "metadata": {
  "interpreter": {
   "hash": "31d8a1ef34cbcebda31b01d96f0668cc5da4b9d1ec201e7411d63c9c214da37f"
  },
  "kernelspec": {
   "display_name": "Python 3.9.7 64-bit ('ds2': conda)",
   "language": "python",
   "name": "python3"
  },
  "language_info": {
   "codemirror_mode": {
    "name": "ipython",
    "version": 3
   },
   "file_extension": ".py",
   "mimetype": "text/x-python",
   "name": "python",
   "nbconvert_exporter": "python",
   "pygments_lexer": "ipython3",
   "version": "3.9.7"
  },
  "orig_nbformat": 4
 },
 "nbformat": 4,
 "nbformat_minor": 2
}
