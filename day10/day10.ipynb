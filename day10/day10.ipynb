{
 "cells": [
  {
   "cell_type": "code",
   "execution_count": 1,
   "metadata": {},
   "outputs": [],
   "source": [
    "from aocd import get_data\n",
    "data = get_data(day=10).splitlines()"
   ]
  },
  {
   "cell_type": "code",
   "execution_count": 2,
   "metadata": {},
   "outputs": [
    {
     "data": {
      "text/plain": [
       "193275"
      ]
     },
     "execution_count": 2,
     "metadata": {},
     "output_type": "execute_result"
    }
   ],
   "source": [
    "def balanced(line):\n",
    "    pairs = {\"{\": \"}\", \"(\": \")\", \"[\": \"]\", \"<\": \">\"}\n",
    "    points = {\"}\": 1197, \")\": 3, \"]\": 57, \">\": 25137}\n",
    "    stack = []\n",
    "    for c in line:\n",
    "        if c in \"{[(<\":\n",
    "            stack.append(c)\n",
    "        elif stack and c == pairs[stack[-1]]:\n",
    "            stack.pop()\n",
    "        else:\n",
    "            return points[c]\n",
    "    return 0\n",
    "\n",
    "score = 0\n",
    "for line in data:\n",
    "    score += balanced(line)\n",
    "score"
   ]
  },
  {
   "cell_type": "code",
   "execution_count": 3,
   "metadata": {},
   "outputs": [
    {
     "data": {
      "text/plain": [
       "2429644557"
      ]
     },
     "execution_count": 3,
     "metadata": {},
     "output_type": "execute_result"
    }
   ],
   "source": [
    "def completion_points(line):\n",
    "    pairs = {\"{\": \"}\", \"(\": \")\", \"[\": \"]\", \"<\": \">\"}\n",
    "    points = {\"(\": 1, \"[\": 2, \"{\": 3, \"<\": 4}\n",
    "    stack = []\n",
    "    for c in line:\n",
    "        if c in \"{[(<\":\n",
    "            stack.append(c)\n",
    "        elif stack and c == pairs[stack[-1]]:\n",
    "            stack.pop()\n",
    "        else:\n",
    "            return None\n",
    "    score = 0\n",
    "    for c in stack[::-1]:\n",
    "        score *= 5\n",
    "        score += points[c]\n",
    "    return score\n",
    "\n",
    "scores = []\n",
    "for line in data:\n",
    "    if completion_points(line) != None:\n",
    "        scores.append(completion_points(line))\n",
    "sorted(scores)[int(len(scores)/2)]"
   ]
  }
 ],
 "metadata": {
  "interpreter": {
   "hash": "31d8a1ef34cbcebda31b01d96f0668cc5da4b9d1ec201e7411d63c9c214da37f"
  },
  "kernelspec": {
   "display_name": "Python 3.9.7 64-bit ('ds2': conda)",
   "language": "python",
   "name": "python3"
  },
  "language_info": {
   "codemirror_mode": {
    "name": "ipython",
    "version": 3
   },
   "file_extension": ".py",
   "mimetype": "text/x-python",
   "name": "python",
   "nbconvert_exporter": "python",
   "pygments_lexer": "ipython3",
   "version": "3.9.7"
  },
  "orig_nbformat": 4
 },
 "nbformat": 4,
 "nbformat_minor": 2
}
