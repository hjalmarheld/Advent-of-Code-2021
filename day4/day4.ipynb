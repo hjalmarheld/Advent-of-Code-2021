{
 "cells": [
  {
   "cell_type": "code",
   "execution_count": 1,
   "metadata": {},
   "outputs": [],
   "source": [
    "import warnings\n",
    "warnings.filterwarnings('ignore')"
   ]
  },
  {
   "cell_type": "code",
   "execution_count": 2,
   "metadata": {},
   "outputs": [],
   "source": [
    "import pandas as pd\n",
    "import numpy as np\n",
    "from aocd import get_data"
   ]
  },
  {
   "cell_type": "code",
   "execution_count": 3,
   "metadata": {},
   "outputs": [],
   "source": [
    "data = get_data(day=4).splitlines()\n",
    "draws = list(map(int, data.pop(0).split(',')))\n",
    "boards = np.array([line.split() for line in data if len(line)>0]).reshape(-1, 5, 5).astype(int)"
   ]
  },
  {
   "cell_type": "code",
   "execution_count": 4,
   "metadata": {},
   "outputs": [],
   "source": [
    "def draw_checker_hor(boards, draw):\n",
    "    locs = np.where(boards == draw)\n",
    "    locs1 = [10 * locs[0] + locs[1], locs[2]]\n",
    "    return locs1\n",
    "def draw_checker_ver(boards, draw):\n",
    "    locs = np.where(boards == draw)\n",
    "    locs2 = [10 *locs[0] + 5 + locs[2], locs[1]]\n",
    "    return locs2"
   ]
  },
  {
   "cell_type": "code",
   "execution_count": 5,
   "metadata": {},
   "outputs": [],
   "source": [
    "df = pd.DataFrame(np.zeros(shape = (boards.shape[0]*boards.shape[1]*2, 5)))\n",
    "for draw in draws:\n",
    "    df.iloc[draw_checker_hor(boards, draw)] = int(draws.index(draw))\n",
    "    df.iloc[draw_checker_ver(boards, draw)] = int(draws.index(draw))\n",
    "df['bingo'] = df.max(axis=1)"
   ]
  },
  {
   "cell_type": "code",
   "execution_count": 6,
   "metadata": {},
   "outputs": [
    {
     "data": {
      "text/plain": [
       "44736"
      ]
     },
     "execution_count": 6,
     "metadata": {},
     "output_type": "execute_result"
    }
   ],
   "source": [
    "board = int(df['bingo'].sort_values().idxmin()/10)\n",
    "draw = int(df.bingo.min())\n",
    "(sum(sum(boards[board])) - sum(np.intersect1d(boards[board],draws[:draw+1])))*draws[draw]"
   ]
  },
  {
   "cell_type": "code",
   "execution_count": 7,
   "metadata": {},
   "outputs": [],
   "source": [
    "df['board'] = [i for i in range(100) for x in range(10)]"
   ]
  },
  {
   "cell_type": "code",
   "execution_count": 8,
   "metadata": {},
   "outputs": [
    {
     "data": {
      "text/plain": [
       "1827"
      ]
     },
     "execution_count": 8,
     "metadata": {},
     "output_type": "execute_result"
    }
   ],
   "source": [
    "board2 = df.groupby('board')['bingo'].min().idxmax()\n",
    "draw2 = int(df.groupby('board')['bingo'].min().sort_values(ascending=False).max())\n",
    "(sum(sum(boards[board2])) - sum(np.intersect1d(boards[board2],draws[:draw2+1])))*draws[draw2]"
   ]
  }
 ],
 "metadata": {
  "interpreter": {
   "hash": "31d8a1ef34cbcebda31b01d96f0668cc5da4b9d1ec201e7411d63c9c214da37f"
  },
  "kernelspec": {
   "display_name": "Python 3.9.7 64-bit ('ds2': conda)",
   "language": "python",
   "name": "python3"
  },
  "language_info": {
   "codemirror_mode": {
    "name": "ipython",
    "version": 3
   },
   "file_extension": ".py",
   "mimetype": "text/x-python",
   "name": "python",
   "nbconvert_exporter": "python",
   "pygments_lexer": "ipython3",
   "version": "3.9.7"
  },
  "orig_nbformat": 4
 },
 "nbformat": 4,
 "nbformat_minor": 2
}
