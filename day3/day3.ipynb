{
 "cells": [
  {
   "cell_type": "code",
   "execution_count": 1,
   "metadata": {},
   "outputs": [],
   "source": [
    "import pandas as pd\n",
    "from aocd import get_data"
   ]
  },
  {
   "cell_type": "code",
   "execution_count": 2,
   "metadata": {},
   "outputs": [],
   "source": [
    "d = get_data(day=3)\n",
    "data = pd.DataFrame([list(str(a)) for a in d.splitlines()])"
   ]
  },
  {
   "cell_type": "code",
   "execution_count": 3,
   "metadata": {},
   "outputs": [
    {
     "data": {
      "text/plain": [
       "2583164"
      ]
     },
     "execution_count": 3,
     "metadata": {},
     "output_type": "execute_result"
    }
   ],
   "source": [
    "# part 1\n",
    "gamma = int(data.mode().agg(''.join, axis=1)[0],2)\n",
    "beta = int(data.replace({'0':'1','1':'0'}).mode().agg(''.join, axis=1)[0],2)\n",
    "gamma * beta"
   ]
  },
  {
   "cell_type": "code",
   "execution_count": 4,
   "metadata": {},
   "outputs": [
    {
     "data": {
      "text/plain": [
       "2784375"
      ]
     },
     "execution_count": 4,
     "metadata": {},
     "output_type": "execute_result"
    }
   ],
   "source": [
    "# part 2\n",
    "data2 = data.astype(int)\n",
    "data3 = data.astype(int)\n",
    "\n",
    "for col in data2.columns:\n",
    "    x = data2[col].mode().max()\n",
    "    data2 = data2.loc[data2[col] == x].reset_index(drop=True)\n",
    "\n",
    "    y = data3[col].value_counts().sort_index().idxmin()\n",
    "    data3 = data3.loc[data3[col] == y].reset_index(drop=True)\n",
    "\n",
    "oxygen = int(data2.astype(str).agg(''.join, axis=1)[0], 2)\n",
    "co2 = int(data3.astype(str).agg(''.join, axis=1)[0], 2)\n",
    "oxygen * co2"
   ]
  }
 ],
 "metadata": {
  "interpreter": {
   "hash": "31d8a1ef34cbcebda31b01d96f0668cc5da4b9d1ec201e7411d63c9c214da37f"
  },
  "kernelspec": {
   "display_name": "Python 3.9.7 64-bit ('ds2': conda)",
   "language": "python",
   "name": "python3"
  },
  "language_info": {
   "codemirror_mode": {
    "name": "ipython",
    "version": 3
   },
   "file_extension": ".py",
   "mimetype": "text/x-python",
   "name": "python",
   "nbconvert_exporter": "python",
   "pygments_lexer": "ipython3",
   "version": "3.9.7"
  },
  "orig_nbformat": 4
 },
 "nbformat": 4,
 "nbformat_minor": 2
}
