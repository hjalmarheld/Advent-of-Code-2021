{
 "cells": [
  {
   "cell_type": "code",
   "execution_count": 1,
   "metadata": {},
   "outputs": [],
   "source": [
    "from aocd import get_data"
   ]
  },
  {
   "cell_type": "code",
   "execution_count": 2,
   "metadata": {},
   "outputs": [],
   "source": [
    "data = get_data(day=12)\n",
    "data = [line.strip().split('-') for line in data.splitlines()]"
   ]
  },
  {
   "cell_type": "code",
   "execution_count": 3,
   "metadata": {},
   "outputs": [],
   "source": [
    "graph = {}\n",
    "for v in data: \n",
    "    for i in range(2): \n",
    "        graph.setdefault(v[i], []).append(v[i - 1])"
   ]
  },
  {
   "cell_type": "code",
   "execution_count": 4,
   "metadata": {},
   "outputs": [],
   "source": [
    "n_visits = {cave: 0 for cave in graph}\n",
    "\n",
    "def search(path, cave, n_paths, doubles_allowed):\n",
    "\n",
    "    if n_visits[cave] and cave.islower():\n",
    "        if not doubles_allowed or cave == \"start\":\n",
    "            return n_paths\n",
    "        doubles_allowed = False\n",
    "\n",
    "    if cave == 'end':\n",
    "        return n_paths + 1\n",
    "\n",
    "    else:\n",
    "        path.append(cave)\n",
    "        n_visits[cave] += 1\n",
    "        for nb in graph[cave]:\n",
    "            n_paths = search(path, nb, n_paths, doubles_allowed)\n",
    "        path.pop()\n",
    "        n_visits[cave] -= 1\n",
    "        if n_visits[cave] and cave.islower():\n",
    "            doubles_allowed = True\n",
    "\n",
    "    return n_paths"
   ]
  },
  {
   "cell_type": "code",
   "execution_count": 5,
   "metadata": {},
   "outputs": [
    {
     "data": {
      "text/plain": [
       "3713"
      ]
     },
     "execution_count": 5,
     "metadata": {},
     "output_type": "execute_result"
    }
   ],
   "source": [
    "# part 1\n",
    "search([], 'start', 0, False)"
   ]
  },
  {
   "cell_type": "code",
   "execution_count": 6,
   "metadata": {},
   "outputs": [
    {
     "data": {
      "text/plain": [
       "91292"
      ]
     },
     "execution_count": 6,
     "metadata": {},
     "output_type": "execute_result"
    }
   ],
   "source": [
    "# part 2\n",
    "search([], 'start', 0, True)"
   ]
  }
 ],
 "metadata": {
  "interpreter": {
   "hash": "31d8a1ef34cbcebda31b01d96f0668cc5da4b9d1ec201e7411d63c9c214da37f"
  },
  "kernelspec": {
   "display_name": "Python 3.9.7 64-bit ('ds2': conda)",
   "language": "python",
   "name": "python3"
  },
  "language_info": {
   "codemirror_mode": {
    "name": "ipython",
    "version": 3
   },
   "file_extension": ".py",
   "mimetype": "text/x-python",
   "name": "python",
   "nbconvert_exporter": "python",
   "pygments_lexer": "ipython3",
   "version": "3.9.7"
  },
  "orig_nbformat": 4
 },
 "nbformat": 4,
 "nbformat_minor": 2
}
