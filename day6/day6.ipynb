{
 "cells": [
  {
   "cell_type": "code",
   "execution_count": 1,
   "metadata": {},
   "outputs": [],
   "source": [
    "from aocd import get_data\n",
    "d = get_data(day=6).split(',')\n",
    "data = [int(d) for d in d]"
   ]
  },
  {
   "cell_type": "code",
   "execution_count": 2,
   "metadata": {},
   "outputs": [
    {
     "data": {
      "text/plain": [
       "345793"
      ]
     },
     "execution_count": 2,
     "metadata": {},
     "output_type": "execute_result"
    }
   ],
   "source": [
    "#part 1\n",
    "fishes_per_age = [0 for _ in range(9)]\n",
    "\n",
    "for fish in data:\n",
    "    fishes_per_age[fish] += 1\n",
    "for _ in range(80):       \n",
    "    new_fishes = fishes_per_age[0]\n",
    "    fishes_per_age[:-1] = fishes_per_age[1:]\n",
    "    fishes_per_age[6] += new_fishes\n",
    "    fishes_per_age[8] = new_fishes\n",
    "\n",
    "sum(fishes_per_age)"
   ]
  },
  {
   "cell_type": "code",
   "execution_count": 3,
   "metadata": {},
   "outputs": [
    {
     "data": {
      "text/plain": [
       "1572643095893"
      ]
     },
     "execution_count": 3,
     "metadata": {},
     "output_type": "execute_result"
    }
   ],
   "source": [
    "#part 2\n",
    "fishes_per_age = [0 for _ in range(9)]\n",
    "\n",
    "for fish in data:\n",
    "    fishes_per_age[fish] += 1\n",
    "for _ in range(256):       \n",
    "    new_fishes = fishes_per_age[0]\n",
    "    fishes_per_age[:-1] = fishes_per_age[1:]\n",
    "    fishes_per_age[6] += new_fishes\n",
    "    fishes_per_age[8] = new_fishes\n",
    "\n",
    "sum(fishes_per_age)"
   ]
  }
 ],
 "metadata": {
  "interpreter": {
   "hash": "31d8a1ef34cbcebda31b01d96f0668cc5da4b9d1ec201e7411d63c9c214da37f"
  },
  "kernelspec": {
   "display_name": "Python 3.9.7 64-bit ('ds2': conda)",
   "language": "python",
   "name": "python3"
  },
  "language_info": {
   "codemirror_mode": {
    "name": "ipython",
    "version": 3
   },
   "file_extension": ".py",
   "mimetype": "text/x-python",
   "name": "python",
   "nbconvert_exporter": "python",
   "pygments_lexer": "ipython3",
   "version": "3.9.7"
  },
  "orig_nbformat": 4
 },
 "nbformat": 4,
 "nbformat_minor": 2
}
