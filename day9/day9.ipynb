{
 "cells": [
  {
   "cell_type": "code",
   "execution_count": 1,
   "metadata": {},
   "outputs": [],
   "source": [
    "from aocd import get_data\n",
    "import numpy as np\n",
    "import skimage"
   ]
  },
  {
   "cell_type": "code",
   "execution_count": 2,
   "metadata": {},
   "outputs": [],
   "source": [
    "data = get_data(day=9).splitlines()\n",
    "data = np.array([list(data) for data in data]).astype(int)"
   ]
  },
  {
   "cell_type": "code",
   "execution_count": 3,
   "metadata": {},
   "outputs": [
    {
     "data": {
      "text/plain": [
       "633"
      ]
     },
     "execution_count": 3,
     "metadata": {},
     "output_type": "execute_result"
    }
   ],
   "source": [
    "# part 1\n",
    "\n",
    "# find all low points using an image filter, assign value \n",
    "# True to local minimums, which equals 1 in calculations\n",
    "\n",
    "low_points = skimage.morphology.local_minima(\n",
    "    data, footprint=None, connectivity=1)\n",
    "\n",
    "np.sum(low_points * (1 + data))\n",
    "\n",
    "# creates array with all the low points, their depths and \n",
    "# adds 1, all other elements=0, sum the points for answer\n",
    "\n"
   ]
  },
  {
   "cell_type": "code",
   "execution_count": 4,
   "metadata": {},
   "outputs": [
    {
     "data": {
      "text/plain": [
       "1050192"
      ]
     },
     "execution_count": 4,
     "metadata": {},
     "output_type": "execute_result"
    }
   ],
   "source": [
    "# part 2\n",
    "\n",
    "# create array including only elements == 9 from the input\n",
    "\n",
    "peak = (data==9)*9\n",
    "\n",
    "# getting basin size from flood_fill, starting from a point\n",
    "# all equal adjacent elements gets filled with 1 until there\n",
    "# are no more equal adjacents elements\n",
    "\n",
    "def basin_size(point, peak):\n",
    "\n",
    "    basin = skimage.morphology.flood_fill(\n",
    "        image=peak, seed_point=point, new_value=1, connectivity=1)\n",
    "        \n",
    "    return np.count_nonzero(basin == 1)\n",
    "\n",
    "\n",
    "# looping over all low points, getting their basin size\n",
    "# from above function and storing them in a list\n",
    "\n",
    "basins = []\n",
    "\n",
    "for i in range(np.sum(low_points)):\n",
    "\n",
    "    point = (\n",
    "        np.where(low_points)[0][i],\n",
    "        np.where(low_points)[1][i]\n",
    "        )\n",
    "\n",
    "    basins.append(basin_size(point, peak))\n",
    "\n",
    "# summing the produc of the three largest basins for the answer\n",
    "\n",
    "np.prod(np.sort(basins)[-3:])"
   ]
  }
 ],
 "metadata": {
  "interpreter": {
   "hash": "31d8a1ef34cbcebda31b01d96f0668cc5da4b9d1ec201e7411d63c9c214da37f"
  },
  "kernelspec": {
   "display_name": "Python 3.9.7 64-bit ('ds2': conda)",
   "language": "python",
   "name": "python3"
  },
  "language_info": {
   "codemirror_mode": {
    "name": "ipython",
    "version": 3
   },
   "file_extension": ".py",
   "mimetype": "text/x-python",
   "name": "python",
   "nbconvert_exporter": "python",
   "pygments_lexer": "ipython3",
   "version": "3.9.7"
  },
  "orig_nbformat": 4
 },
 "nbformat": 4,
 "nbformat_minor": 2
}
