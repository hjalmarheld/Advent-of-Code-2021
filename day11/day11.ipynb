{
 "cells": [
  {
   "cell_type": "code",
   "execution_count": 1,
   "metadata": {},
   "outputs": [],
   "source": [
    "import numpy as np\n",
    "from aocd import get_data\n",
    "from scipy.signal import convolve2d"
   ]
  },
  {
   "cell_type": "code",
   "execution_count": 2,
   "metadata": {},
   "outputs": [],
   "source": [
    "data=get_data(day=11).splitlines()\n",
    "data = np.array([list(data) for data in data]).astype(int)"
   ]
  },
  {
   "cell_type": "code",
   "execution_count": 3,
   "metadata": {},
   "outputs": [
    {
     "data": {
      "text/plain": [
       "1613.0"
      ]
     },
     "execution_count": 3,
     "metadata": {},
     "output_type": "execute_result"
    }
   ],
   "source": [
    "count = 0\n",
    "square=np.array([[1,1,1],[1,1,1],[1,1,1]])\n",
    "data1 = data.copy()\n",
    "\n",
    "for i in range(100):\n",
    "    data1 += 1\n",
    "    popped = np.zeros(shape=data1.shape)\n",
    "    while (data1>9).sum()>0:\n",
    "        tens = (data1>9)*1\n",
    "        popped +=tens\n",
    "        data1 *= (data1<10)\n",
    "        data1 += convolve2d(tens, square, mode='same')\n",
    "    count += popped.sum()\n",
    "    data1 = data1 * (1 - popped)\n",
    "\n",
    "count"
   ]
  },
  {
   "cell_type": "code",
   "execution_count": 4,
   "metadata": {},
   "outputs": [
    {
     "name": "stdout",
     "output_type": "stream",
     "text": [
      "510\n"
     ]
    }
   ],
   "source": [
    "step = 0\n",
    "data2 = data.copy()\n",
    "area = data2.shape[0] * data2.shape[1]\n",
    "\n",
    "while True:\n",
    "    data2 += 1\n",
    "    popped = np.zeros(shape=data2.shape)\n",
    "    while (data2>9).sum()>0:\n",
    "        tens = (data2>9)*1\n",
    "        popped +=tens\n",
    "        data2 *= (data2<10)\n",
    "        data2 += convolve2d(tens, square, mode='same')\n",
    "    data2 = data2 * (1 - popped)\n",
    "    step += 1\n",
    "    if popped.sum() == area:\n",
    "        print(step)\n",
    "        break"
   ]
  }
 ],
 "metadata": {
  "interpreter": {
   "hash": "31d8a1ef34cbcebda31b01d96f0668cc5da4b9d1ec201e7411d63c9c214da37f"
  },
  "kernelspec": {
   "display_name": "Python 3.9.7 64-bit ('ds2': conda)",
   "language": "python",
   "name": "python3"
  },
  "language_info": {
   "codemirror_mode": {
    "name": "ipython",
    "version": 3
   },
   "file_extension": ".py",
   "mimetype": "text/x-python",
   "name": "python",
   "nbconvert_exporter": "python",
   "pygments_lexer": "ipython3",
   "version": "3.9.7"
  },
  "orig_nbformat": 4
 },
 "nbformat": 4,
 "nbformat_minor": 2
}
