{
 "cells": [
  {
   "cell_type": "code",
   "execution_count": 1,
   "metadata": {},
   "outputs": [],
   "source": [
    "import pandas as pd"
   ]
  },
  {
   "cell_type": "code",
   "execution_count": 2,
   "metadata": {},
   "outputs": [],
   "source": [
    "data = pd.read_csv(\n",
    "    'input.txt', header=None, sep='-> |,', \n",
    "    engine='python', names=['x1','y1','x2','y2'])"
   ]
  },
  {
   "cell_type": "code",
   "execution_count": 3,
   "metadata": {},
   "outputs": [],
   "source": [
    "# get all the points a line segmet crosses\n",
    "def all_points(x1,y1,x2,y2):\n",
    "    points=[]\n",
    "    if x1==x2:\n",
    "        for i in range(abs(y1-y2)+1):\n",
    "            points.append(f'{x1},{min(y1,y2)+i}')\n",
    "        return points\n",
    "    elif y1==y2:\n",
    "        for i in range(abs(x1-x2)+1):\n",
    "            points.append(f'{min(x1,x2)+i},{y1}')\n",
    "        return points\n",
    "    else:\n",
    "        for i, j in zip(\n",
    "            range(x1,x2 + int((x2-x1)/abs(x1-x2)), int((x2-x1)/abs(x1-x2))), \n",
    "            range(y1,y2 + int((y2-y1)/abs(y1-y2)), int((y2-y1)/abs(y1-y2)))):\n",
    "                points.append(f'{i},{j}')\n",
    "        return points"
   ]
  },
  {
   "cell_type": "code",
   "execution_count": 4,
   "metadata": {},
   "outputs": [
    {
     "data": {
      "text/plain": [
       "7644"
      ]
     },
     "execution_count": 4,
     "metadata": {},
     "output_type": "execute_result"
    }
   ],
   "source": [
    "# part 1\n",
    "data1 = data.loc[(data.x1 == data.x2)|(data.y1 == data.y2)]\n",
    "\n",
    "all_points1 = pd.DataFrame(\n",
    "    data1.apply(lambda x: all_points(x.x1, x.y1, x.x2, x.y2), axis=1).tolist())\n",
    "    \n",
    "(all_points1.stack().value_counts()>1).sum()"
   ]
  },
  {
   "cell_type": "code",
   "execution_count": 5,
   "metadata": {},
   "outputs": [
    {
     "data": {
      "text/plain": [
       "18627"
      ]
     },
     "execution_count": 5,
     "metadata": {},
     "output_type": "execute_result"
    }
   ],
   "source": [
    "# part 2\n",
    "all_points2 = pd.DataFrame(\n",
    "    data.apply(lambda x: all_points(x.x1, x.y1, x.x2, x.y2), axis=1).tolist())\n",
    "\n",
    "(all_points2.stack().value_counts()>1).sum()"
   ]
  }
 ],
 "metadata": {
  "interpreter": {
   "hash": "31d8a1ef34cbcebda31b01d96f0668cc5da4b9d1ec201e7411d63c9c214da37f"
  },
  "kernelspec": {
   "display_name": "Python 3.9.7 64-bit ('ds2': conda)",
   "language": "python",
   "name": "python3"
  },
  "language_info": {
   "codemirror_mode": {
    "name": "ipython",
    "version": 3
   },
   "file_extension": ".py",
   "mimetype": "text/x-python",
   "name": "python",
   "nbconvert_exporter": "python",
   "pygments_lexer": "ipython3",
   "version": "3.9.7"
  },
  "orig_nbformat": 4
 },
 "nbformat": 4,
 "nbformat_minor": 2
}
