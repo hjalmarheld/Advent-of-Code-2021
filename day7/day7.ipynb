{
 "cells": [
  {
   "cell_type": "code",
   "execution_count": 1,
   "metadata": {},
   "outputs": [],
   "source": [
    "from aocd import get_data"
   ]
  },
  {
   "cell_type": "code",
   "execution_count": 2,
   "metadata": {},
   "outputs": [],
   "source": [
    "d = get_data(day=7).split(',')\n",
    "data = [int(d) for d in d]\n",
    "all_horisontal = list(range(min(data), max(data)+1))"
   ]
  },
  {
   "cell_type": "code",
   "execution_count": 3,
   "metadata": {},
   "outputs": [
    {
     "data": {
      "text/plain": [
       "(339, 343468)"
      ]
     },
     "execution_count": 3,
     "metadata": {},
     "output_type": "execute_result"
    }
   ],
   "source": [
    "# part 1\n",
    "fuel_to_position = {}\n",
    "for position in all_horisontal:\n",
    "    fuel = 0\n",
    "    for submarine in data:\n",
    "        fuel += abs(submarine-position)\n",
    "    fuel_to_position[position] = fuel\n",
    "\n",
    "lowest = min(fuel_to_position, key=fuel_to_position.get)\n",
    "lowest, fuel_to_position[lowest]"
   ]
  },
  {
   "cell_type": "code",
   "execution_count": 4,
   "metadata": {},
   "outputs": [
    {
     "data": {
      "text/plain": [
       "(478, 96086265)"
      ]
     },
     "execution_count": 4,
     "metadata": {},
     "output_type": "execute_result"
    }
   ],
   "source": [
    "# part 2\n",
    "fuel_to_position = {}\n",
    "for position in all_horisontal:\n",
    "    fuel = 0\n",
    "    for submarine in data:\n",
    "        fuel += sum(range(1,abs(submarine-position)+1))\n",
    "    fuel_to_position[position] = fuel\n",
    "\n",
    "lowest = min(fuel_to_position, key=fuel_to_position.get)\n",
    "lowest, fuel_to_position[lowest]"
   ]
  }
 ],
 "metadata": {
  "interpreter": {
   "hash": "456604db99213b6b9341b9936b56d15b03820d5e0cf1d096ec93910df582225f"
  },
  "kernelspec": {
   "display_name": "Python 3.9.7 64-bit ('base': conda)",
   "language": "python",
   "name": "python3"
  },
  "language_info": {
   "codemirror_mode": {
    "name": "ipython",
    "version": 3
   },
   "file_extension": ".py",
   "mimetype": "text/x-python",
   "name": "python",
   "nbconvert_exporter": "python",
   "pygments_lexer": "ipython3",
   "version": "3.9.7"
  },
  "orig_nbformat": 4
 },
 "nbformat": 4,
 "nbformat_minor": 2
}
